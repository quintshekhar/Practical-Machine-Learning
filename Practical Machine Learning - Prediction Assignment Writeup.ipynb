{
 "cells": [
  {
   "cell_type": "markdown",
   "metadata": {},
   "source": [
    "**Background**\n",
    "\n",
    "Using devices such as Jawbone Up, Nike FuelBand, and Fitbit it is now possible to collect a large amount of data about personal activity relatively inexpensively. These type of devices are part of the quantified self movement – a group of enthusiasts who take measurements about themselves regularly to improve their health, to find patterns in their behavior, or because they are tech geeks. One thing that people regularly do is quantify how much of a particular activity they do, but they rarely quantify how well they do it. In this project, your goal will be to use data from accelerometers on the belt, forearm, arm, and dumbell of 6 participants. They were asked to perform barbell lifts correctly and incorrectly in 5 different ways. More information is available from the website here: http://web.archive.org/web/20161224072740/http:/groupware.les.inf.puc-rio.br/har (see the section on the Weight Lifting Exercise Dataset).\n",
    "\n",
    "**Data**\n",
    "\n",
    "The training data for this project are available here:\n",
    "\n",
    "https://d396qusza40orc.cloudfront.net/predmachlearn/pml-training.csv\n",
    "\n",
    "The test data are available here:\n",
    "\n",
    "https://d396qusza40orc.cloudfront.net/predmachlearn/pml-testing.csv\n",
    "\n",
    "The data for this project come from this source: http://web.archive.org/web/20161224072740/http:/groupware.les.inf.puc-rio.br/har. If you use the document you create for this class for any purpose please cite them as they have been very generous in allowing their data to be used for this kind of assignment.\n",
    "\n"
   ]
  },
  {
   "cell_type": "markdown",
   "metadata": {},
   "source": [
    "** Overview **\n",
    "\n",
    "This project is to select a prediction model for predicting 20 test cases from a test dataset."
   ]
  },
  {
   "cell_type": "code",
   "execution_count": 1,
   "metadata": {},
   "outputs": [
    {
     "name": "stderr",
     "output_type": "stream",
     "text": [
      "Warning message:\n",
      "\"package 'caret' was built under R version 3.4.4\"Loading required package: lattice\n",
      "Loading required package: ggplot2\n",
      "Warning message:\n",
      "\"package 'ggplot2' was built under R version 3.4.3\"Warning message:\n",
      "\"package 'randomForest' was built under R version 3.4.3\"randomForest 4.6-12\n",
      "Type rfNews() to see new features/changes/bug fixes.\n",
      "\n",
      "Attaching package: 'randomForest'\n",
      "\n",
      "The following object is masked from 'package:ggplot2':\n",
      "\n",
      "    margin\n",
      "\n",
      "Warning message:\n",
      "\"package 'e1071' was built under R version 3.4.4\"Warning message:\n",
      "\"package 'gbm' was built under R version 3.4.3\"Loading required package: survival\n",
      "\n",
      "Attaching package: 'survival'\n",
      "\n",
      "The following object is masked from 'package:caret':\n",
      "\n",
      "    cluster\n",
      "\n",
      "Loading required package: splines\n",
      "Loading required package: parallel\n",
      "Loaded gbm 2.1.3\n"
     ]
    },
    {
     "data": {
      "text/html": [
       "<ol class=list-inline>\n",
       "\t<li>19622</li>\n",
       "\t<li>160</li>\n",
       "</ol>\n"
      ],
      "text/latex": [
       "\\begin{enumerate*}\n",
       "\\item 19622\n",
       "\\item 160\n",
       "\\end{enumerate*}\n"
      ],
      "text/markdown": [
       "1. 19622\n",
       "2. 160\n",
       "\n",
       "\n"
      ],
      "text/plain": [
       "[1] 19622   160"
      ]
     },
     "metadata": {},
     "output_type": "display_data"
    }
   ],
   "source": [
    "# Load the libraries and datasets\n",
    "library(caret)\n",
    "library(rpart)\n",
    "library(randomForest)\n",
    "library(e1071)\n",
    "library(gbm)\n",
    "\n",
    "set.seed(1234)\n",
    "\n",
    "# Set the URLs\n",
    "TrainDataURL <- \"https://d396qusza40orc.cloudfront.net/predmachlearn/pml-training.csv\"\n",
    "TestDataURL <- \"https://d396qusza40orc.cloudfront.net/predmachlearn/pml-testing.csv\"\n",
    "\n",
    "# Download and clean the datasets\n",
    "TrainingData <- read.csv(url(TrainDataURL), na.strings=c(\"NA\",\"#DIV/0!\",\"\"))\n",
    "TestingData <- read.csv(url(TestDataURL), na.strings=c(\"NA\",\"#DIV/0!\",\"\"))\n",
    "\n",
    "# Check for the datasets dimemsions\n",
    "dim(TrainingData)"
   ]
  },
  {
   "cell_type": "code",
   "execution_count": 2,
   "metadata": {},
   "outputs": [
    {
     "data": {
      "text/html": [
       "<ol class=list-inline>\n",
       "\t<li>20</li>\n",
       "\t<li>160</li>\n",
       "</ol>\n"
      ],
      "text/latex": [
       "\\begin{enumerate*}\n",
       "\\item 20\n",
       "\\item 160\n",
       "\\end{enumerate*}\n"
      ],
      "text/markdown": [
       "1. 20\n",
       "2. 160\n",
       "\n",
       "\n"
      ],
      "text/plain": [
       "[1]  20 160"
      ]
     },
     "metadata": {},
     "output_type": "display_data"
    }
   ],
   "source": [
    "dim(TestingData)"
   ]
  },
  {
   "cell_type": "code",
   "execution_count": 3,
   "metadata": {},
   "outputs": [
    {
     "data": {
      "text/html": [
       "<ol class=list-inline>\n",
       "\t<li>19622</li>\n",
       "\t<li>53</li>\n",
       "</ol>\n"
      ],
      "text/latex": [
       "\\begin{enumerate*}\n",
       "\\item 19622\n",
       "\\item 53\n",
       "\\end{enumerate*}\n"
      ],
      "text/markdown": [
       "1. 19622\n",
       "2. 53\n",
       "\n",
       "\n"
      ],
      "text/plain": [
       "[1] 19622    53"
      ]
     },
     "metadata": {},
     "output_type": "display_data"
    }
   ],
   "source": [
    "# Delete columns with missing values\n",
    "TrainingData <-TrainingData[,colSums(is.na(TrainingData)) == 0]\n",
    "TestingData <-TestingData[,colSums(is.na(TestingData)) == 0]\n",
    "\n",
    "# Delete unused columns\n",
    "TrainingData <-TrainingData[,-c(1:7)]\n",
    "TestingData <-TestingData[,-c(1:7)]\n",
    "\n",
    "# Check for the datasets dimemsions\n",
    "dim(TrainingData)"
   ]
  },
  {
   "cell_type": "code",
   "execution_count": 4,
   "metadata": {},
   "outputs": [
    {
     "data": {
      "text/html": [
       "<ol class=list-inline>\n",
       "\t<li>20</li>\n",
       "\t<li>53</li>\n",
       "</ol>\n"
      ],
      "text/latex": [
       "\\begin{enumerate*}\n",
       "\\item 20\n",
       "\\item 53\n",
       "\\end{enumerate*}\n"
      ],
      "text/markdown": [
       "1. 20\n",
       "2. 53\n",
       "\n",
       "\n"
      ],
      "text/plain": [
       "[1] 20 53"
      ]
     },
     "metadata": {},
     "output_type": "display_data"
    }
   ],
   "source": [
    "dim(TestingData)"
   ]
  },
  {
   "cell_type": "markdown",
   "metadata": {},
   "source": [
    "** Dataset Partitioning ** "
   ]
  },
  {
   "cell_type": "code",
   "execution_count": 5,
   "metadata": {},
   "outputs": [
    {
     "data": {
      "text/html": [
       "<ol class=list-inline>\n",
       "\t<li>13737</li>\n",
       "\t<li>53</li>\n",
       "</ol>\n"
      ],
      "text/latex": [
       "\\begin{enumerate*}\n",
       "\\item 13737\n",
       "\\item 53\n",
       "\\end{enumerate*}\n"
      ],
      "text/markdown": [
       "1. 13737\n",
       "2. 53\n",
       "\n",
       "\n"
      ],
      "text/plain": [
       "[1] 13737    53"
      ]
     },
     "metadata": {},
     "output_type": "display_data"
    },
    {
     "data": {
      "text/html": [
       "<ol class=list-inline>\n",
       "\t<li>20</li>\n",
       "\t<li>53</li>\n",
       "</ol>\n"
      ],
      "text/latex": [
       "\\begin{enumerate*}\n",
       "\\item 20\n",
       "\\item 53\n",
       "\\end{enumerate*}\n"
      ],
      "text/markdown": [
       "1. 20\n",
       "2. 53\n",
       "\n",
       "\n"
      ],
      "text/plain": [
       "[1] 20 53"
      ]
     },
     "metadata": {},
     "output_type": "display_data"
    }
   ],
   "source": [
    "# Partitions training dataset\n",
    "PartData <- createDataPartition(TrainingData$classe, p=0.7, list=FALSE)\n",
    "TrainingSet <- TrainingData[PartData, ]\n",
    "TestingSet <- TrainingData[-PartData, ]\n",
    "dim(TrainingSet)\n",
    "dim(TestingData)"
   ]
  },
  {
   "cell_type": "markdown",
   "metadata": {},
   "source": [
    "** Examine the Training Dataset by Showing its Frequency **"
   ]
  },
  {
   "cell_type": "code",
   "execution_count": 7,
   "metadata": {},
   "outputs": [
    {
     "data": {
      "image/png": "[encoded data removed]",
      "text/plain": [
       "Plot with title \"Frequency of different levels\""
      ]
     },
     "metadata": {},
     "output_type": "display_data"
    }
   ],
   "source": [
    "plot(TrainingSet$classe, col=\"#ffddaa\", main=\"Frequency of different levels\", xlab=\"classe\", ylab=\"Frequency\")"
   ]
  },
  {
   "cell_type": "markdown",
   "metadata": {},
   "source": [
    "### Based on the frequency distribution, it shows that each level frequency is within the same order of magnitude of each other. Level A is the most frequent, and level D is the least frequent. ###"
   ]
  },
  {
   "cell_type": "markdown",
   "metadata": {},
   "source": [
    "#### Prediction using Random Forest Model and Generalized Boosted Model\n",
    "\n",
    "** 1. Random Forest **"
   ]
  },
  {
   "cell_type": "code",
   "execution_count": 8,
   "metadata": {},
   "outputs": [
    {
     "data": {
      "text/plain": [
       "Confusion Matrix and Statistics\n",
       "\n",
       "          Reference\n",
       "Prediction    A    B    C    D    E\n",
       "         A 1674    8    0    0    0\n",
       "         B    0 1130    5    0    0\n",
       "         C    0    1 1021    4    0\n",
       "         D    0    0    0  959    1\n",
       "         E    0    0    0    1 1081\n",
       "\n",
       "Overall Statistics\n",
       "                                          \n",
       "               Accuracy : 0.9966          \n",
       "                 95% CI : (0.9948, 0.9979)\n",
       "    No Information Rate : 0.2845          \n",
       "    P-Value [Acc > NIR] : < 2.2e-16       \n",
       "                                          \n",
       "                  Kappa : 0.9957          \n",
       " Mcnemar's Test P-Value : NA              \n",
       "\n",
       "Statistics by Class:\n",
       "\n",
       "                     Class: A Class: B Class: C Class: D Class: E\n",
       "Sensitivity            1.0000   0.9921   0.9951   0.9948   0.9991\n",
       "Specificity            0.9981   0.9989   0.9990   0.9998   0.9998\n",
       "Pos Pred Value         0.9952   0.9956   0.9951   0.9990   0.9991\n",
       "Neg Pred Value         1.0000   0.9981   0.9990   0.9990   0.9998\n",
       "Prevalence             0.2845   0.1935   0.1743   0.1638   0.1839\n",
       "Detection Rate         0.2845   0.1920   0.1735   0.1630   0.1837\n",
       "Detection Prevalence   0.2858   0.1929   0.1743   0.1631   0.1839\n",
       "Balanced Accuracy      0.9991   0.9955   0.9970   0.9973   0.9994"
      ]
     },
     "metadata": {},
     "output_type": "display_data"
    }
   ],
   "source": [
    "# Fitting model\n",
    "model1 <- randomForest(classe ~., data=TrainingSet, method=\"class\")\n",
    "\n",
    "# Predicting\n",
    "prediction1 <- predict(model1, TestingSet, Type=\"class\")\n",
    "\n",
    "# Testing\n",
    "confusionMatrix(prediction1, TestingSet$classe)"
   ]
  },
  {
   "cell_type": "markdown",
   "metadata": {},
   "source": [
    "** 2. Generalized Boosted Model**"
   ]
  },
  {
   "cell_type": "code",
   "execution_count": 9,
   "metadata": {},
   "outputs": [
    {
     "data": {
      "text/plain": [
       "Confusion Matrix and Statistics\n",
       "\n",
       "          Reference\n",
       "Prediction    A    B    C    D    E\n",
       "         A 1653   42    0    0    1\n",
       "         B   12 1069   34    6   17\n",
       "         C    4   27  979   25   12\n",
       "         D    4    0   11  922   15\n",
       "         E    1    1    2   11 1037\n",
       "\n",
       "Overall Statistics\n",
       "                                          \n",
       "               Accuracy : 0.9618          \n",
       "                 95% CI : (0.9565, 0.9665)\n",
       "    No Information Rate : 0.2845          \n",
       "    P-Value [Acc > NIR] : < 2.2e-16       \n",
       "                                          \n",
       "                  Kappa : 0.9516          \n",
       " Mcnemar's Test P-Value : 5.862e-09       \n",
       "\n",
       "Statistics by Class:\n",
       "\n",
       "                     Class: A Class: B Class: C Class: D Class: E\n",
       "Sensitivity            0.9875   0.9385   0.9542   0.9564   0.9584\n",
       "Specificity            0.9898   0.9855   0.9860   0.9939   0.9969\n",
       "Pos Pred Value         0.9746   0.9394   0.9351   0.9685   0.9857\n",
       "Neg Pred Value         0.9950   0.9853   0.9903   0.9915   0.9907\n",
       "Prevalence             0.2845   0.1935   0.1743   0.1638   0.1839\n",
       "Detection Rate         0.2809   0.1816   0.1664   0.1567   0.1762\n",
       "Detection Prevalence   0.2882   0.1934   0.1779   0.1618   0.1788\n",
       "Balanced Accuracy      0.9886   0.9620   0.9701   0.9752   0.9776"
      ]
     },
     "metadata": {},
     "output_type": "display_data"
    }
   ],
   "source": [
    "# Fitting model\n",
    "fitControl <- trainControl(method=\"repeatedcv\", number=5, repeats=1)\n",
    "model2 <- train(classe ~., data=TrainingSet, method=\"gbm\", trControl=fitControl, verbose=FALSE)\n",
    "\n",
    "# Predicting\n",
    "prediction2 <- predict(model2, TestingSet)\n",
    "\n",
    "# Testing\n",
    "confusionMatrix(prediction2, TestingSet$classe)"
   ]
  },
  {
   "cell_type": "markdown",
   "metadata": {},
   "source": [
    "#### The accuracy of Random Forest is 99.66, which is higher than that by Generalized Boosted. The Random Forest model will be applied to predict the 20 quiz results. ####"
   ]
  },
  {
   "cell_type": "code",
   "execution_count": 10,
   "metadata": {},
   "outputs": [
    {
     "data": {
      "text/html": [
       "<dl class=dl-horizontal>\n",
       "\t<dt>1</dt>\n",
       "\t\t<dd>B</dd>\n",
       "\t<dt>2</dt>\n",
       "\t\t<dd>A</dd>\n",
       "\t<dt>3</dt>\n",
       "\t\t<dd>B</dd>\n",
       "\t<dt>4</dt>\n",
       "\t\t<dd>A</dd>\n",
       "\t<dt>5</dt>\n",
       "\t\t<dd>A</dd>\n",
       "\t<dt>6</dt>\n",
       "\t\t<dd>E</dd>\n",
       "\t<dt>7</dt>\n",
       "\t\t<dd>D</dd>\n",
       "\t<dt>8</dt>\n",
       "\t\t<dd>B</dd>\n",
       "\t<dt>9</dt>\n",
       "\t\t<dd>A</dd>\n",
       "\t<dt>10</dt>\n",
       "\t\t<dd>A</dd>\n",
       "\t<dt>11</dt>\n",
       "\t\t<dd>B</dd>\n",
       "\t<dt>12</dt>\n",
       "\t\t<dd>C</dd>\n",
       "\t<dt>13</dt>\n",
       "\t\t<dd>B</dd>\n",
       "\t<dt>14</dt>\n",
       "\t\t<dd>A</dd>\n",
       "\t<dt>15</dt>\n",
       "\t\t<dd>E</dd>\n",
       "\t<dt>16</dt>\n",
       "\t\t<dd>E</dd>\n",
       "\t<dt>17</dt>\n",
       "\t\t<dd>A</dd>\n",
       "\t<dt>18</dt>\n",
       "\t\t<dd>B</dd>\n",
       "\t<dt>19</dt>\n",
       "\t\t<dd>B</dd>\n",
       "\t<dt>20</dt>\n",
       "\t\t<dd>B</dd>\n",
       "</dl>\n"
      ],
      "text/latex": [
       "\\begin{description*}\n",
       "\\item[1] B\n",
       "\\item[2] A\n",
       "\\item[3] B\n",
       "\\item[4] A\n",
       "\\item[5] A\n",
       "\\item[6] E\n",
       "\\item[7] D\n",
       "\\item[8] B\n",
       "\\item[9] A\n",
       "\\item[10] A\n",
       "\\item[11] B\n",
       "\\item[12] C\n",
       "\\item[13] B\n",
       "\\item[14] A\n",
       "\\item[15] E\n",
       "\\item[16] E\n",
       "\\item[17] A\n",
       "\\item[18] B\n",
       "\\item[19] B\n",
       "\\item[20] B\n",
       "\\end{description*}\n"
      ],
      "text/markdown": [
       "1\n",
       ":   B2\n",
       ":   A3\n",
       ":   B4\n",
       ":   A5\n",
       ":   A6\n",
       ":   E7\n",
       ":   D8\n",
       ":   B9\n",
       ":   A10\n",
       ":   A11\n",
       ":   B12\n",
       ":   C13\n",
       ":   B14\n",
       ":   A15\n",
       ":   E16\n",
       ":   E17\n",
       ":   A18\n",
       ":   B19\n",
       ":   B20\n",
       ":   B\n",
       "\n"
      ],
      "text/plain": [
       " 1  2  3  4  5  6  7  8  9 10 11 12 13 14 15 16 17 18 19 20 \n",
       " B  A  B  A  A  E  D  B  A  A  B  C  B  A  E  E  A  B  B  B \n",
       "Levels: A B C D E"
      ]
     },
     "metadata": {},
     "output_type": "display_data"
    }
   ],
   "source": [
    "predictTest <- predict(model1, TestingData)\n",
    "predictTest"
   ]
  },
  {
   "cell_type": "code",
   "execution_count": 11,
   "metadata": {},
   "outputs": [],
   "source": [
    "# Create files for submission\n",
    "pml_write_files = function(x){\n",
    "n = length(x)\n",
    "for(i in 1:n){\n",
    "filename = paste0(\"problem_id_\",i,\".txt\")\n",
    "write.table(x[i],file=filename,quote=FALSE,row.names=FALSE,col.names=FALSE)\n",
    "}\n",
    "}\n",
    "pml_write_files(predictTest)"
   ]
  },
  {
   "cell_type": "code",
   "execution_count": null,
   "metadata": {},
   "outputs": [],
   "source": []
  }
 ],
 "metadata": {
  "anaconda-cloud": {},
  "kernelspec": {
   "display_name": "R [conda env:Anaconda3]",
   "language": "R",
   "name": "conda-env-Anaconda3-r"
  },
  "language_info": {
   "codemirror_mode": "r",
   "file_extension": ".r",
   "mimetype": "text/x-r-source",
   "name": "R",
   "pygments_lexer": "r",
   "version": "3.4.2"
  }
 },
 "nbformat": 4,
 "nbformat_minor": 2
}
